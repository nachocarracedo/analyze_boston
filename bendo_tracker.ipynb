{
 "cells": [
  {
   "cell_type": "code",
   "execution_count": 1,
   "metadata": {
    "collapsed": true
   },
   "outputs": [],
   "source": [
    "import numpy as np\n",
    "import pandas as pd\n",
    "import matplotlib.pyplot as plt\n",
    "import seaborn as sns\n",
    "%matplotlib inline"
   ]
  },
  {
   "cell_type": "code",
   "execution_count": 74,
   "metadata": {
    "collapsed": false
   },
   "outputs": [
    {
     "name": "stdout",
     "output_type": "stream",
     "text": [
      "Index(['Property Name', 'Reported_2015', 'Property Type_2015', 'Address',\n",
      "       'ZIP_2015', 'Gross Area (sq ft)_2015', 'Site EUI (kBTU/sf)_2015',\n",
      "       'Energy Star Score_2015', 'Energy Star Certified_2015',\n",
      "       'Property Uses_2015', 'Year Built_2015', 'GHG Emissions (MTCO2e)_2015',\n",
      "       'GHG Intensity (kgCO2/sf)_2015', ' Total Site Energy (kBTU) _2015',\n",
      "       '% Electricity_2015', '% Gas_2015', '% Steam_2015',\n",
      "       'Water Intensity (gal/sf)_2015', 'Onsite Solar (kWh)_2015',\n",
      "       'User Submitted Info_2015', 'User Submitted Link_2015',\n",
      "       'Tax Parcel_2015', 'Years Reported', 'Reported_2014',\n",
      "       'Property Type_2014', 'ZIP_2014', 'Gross Area (sq ft)_2014',\n",
      "       'Site EUI (kBTU/sf)_2014', 'Energy Star Score_2014',\n",
      "       'Energy Star Certified_2014', 'Property Uses_2014', 'Year Built_2014',\n",
      "       'GHG Emissions (MTCO2e)_2014', 'GHG Intensity (kgCO2/sf)_2014',\n",
      "       ' Total Site Energy (kBTU) _2014', '% Electricity_2014', '% Gas_2014',\n",
      "       '% Steam_2014', 'Water Intensity (gal/sf)_2014',\n",
      "       'Onsite Solar (kWh)_2014', 'User Submitted Info_2014',\n",
      "       'User Submitted Link_2014', 'Tax Parcel_2014'],\n",
      "      dtype='object')\n"
     ]
    }
   ],
   "source": [
    "berdo = pd.read_csv(\".\\\\data\\\\berdo.csv\")\n",
    "\n",
    "print(berdo.columns)\n",
    "\n",
    "cols_num = ['Gross Area (sq ft)', 'Site EUI (kBTU/sf)',\n",
    "        'GHG Emissions (MTCO2e)', 'GHG Intensity (kgCO2/sf)',\n",
    "        ' Total Site Energy (kBTU) ','Water Intensity (gal/sf)']\n",
    "\n",
    "cols_percent = [\"% Gas\", \"% Steam\", \"% Electricity\"]\n",
    "\n",
    "def to_number(s):\n",
    "    try:\n",
    "        float(s)\n",
    "        return float(s)\n",
    "    except ValueError:\n",
    "        return -1\n",
    "\n",
    "def fix_numerical(columns):\n",
    "    \n",
    "    for c in columns:\n",
    "        for year in (\"_2014\",\"_2015\"):\n",
    "            cyear = c + year\n",
    "            berdo[cyear] = berdo[cyear].map(lambda x: str(x).strip().replace(\",\",\"\"))\n",
    "            berdo[cyear] = berdo[cyear].map(to_number)\n",
    "            cyear = c\n",
    "            \n",
    "def fix_percenteage(columns):\n",
    "    \n",
    "    for c in columns:\n",
    "        for year in (\"_2014\",\"_2015\"):\n",
    "            cyear = c + year\n",
    "            berdo[cyear].fillna(\"0%\", inplace=True)\n",
    "            berdo[cyear] = berdo[cyear].map(lambda x: float(x.strip().replace(\"%\",\"\")))         \n",
    "            cyear = c\n",
    "\n",
    "fix_numerical(cols_num)\n",
    "fix_percenteage(cols_percent)\n",
    "\n",
    "berdo[\"%_total_2015\"] = berdo[[\"% Gas_2015\",\"% Steam_2015\",\"% Electricity_2015\"]].sum(axis=1)\n",
    "berdo[\"%_total_2014\"] = berdo[[\"% Gas_2014\",\"% Steam_2014\",\"% Electricity_2014\"]].sum(axis=1)"
   ]
  },
  {
   "cell_type": "code",
   "execution_count": 75,
   "metadata": {
    "collapsed": false
   },
   "outputs": [
    {
     "name": "stdout",
     "output_type": "stream",
     "text": [
      "Property Name                      0\n",
      "Address                            0\n",
      "ZIP_2015                           0\n",
      "Year Built_2015                    0\n",
      "Property Type_2015                 0\n",
      "Property Type_2014                 0\n",
      "Gross Area (sq ft)_2015            0\n",
      "Gross Area (sq ft)_2014            0\n",
      "Site EUI (kBTU/sf)_2015            0\n",
      "Site EUI (kBTU/sf)_2014            0\n",
      " Total Site Energy (kBTU) _2015    0\n",
      " Total Site Energy (kBTU) _2014    0\n",
      "GHG Emissions (MTCO2e)_2015        0\n",
      "GHG Emissions (MTCO2e)_2014        0\n",
      "GHG Intensity (kgCO2/sf)_2015      0\n",
      "GHG Intensity (kgCO2/sf)_2014      0\n",
      "% Electricity_2015                 0\n",
      "% Gas_2015                         0\n",
      "% Steam_2015                       0\n",
      "%_total_2015                       0\n",
      "% Electricity_2014                 0\n",
      "% Gas_2014                         0\n",
      "% Steam_2014                       0\n",
      "%_total_2014                       0\n",
      "dtype: int64\n",
      "(1086, 24)\n",
      "---------\n",
      "Property Name                      0\n",
      "Address                            0\n",
      "ZIP_2015                           0\n",
      "Year Built_2015                    0\n",
      "Property Type_2015                 0\n",
      "Property Type_2014                 0\n",
      "Gross Area (sq ft)_2015            0\n",
      "Gross Area (sq ft)_2014            0\n",
      "Site EUI (kBTU/sf)_2015            0\n",
      "Site EUI (kBTU/sf)_2014            0\n",
      " Total Site Energy (kBTU) _2015    0\n",
      " Total Site Energy (kBTU) _2014    0\n",
      "GHG Emissions (MTCO2e)_2015        0\n",
      "GHG Emissions (MTCO2e)_2014        0\n",
      "GHG Intensity (kgCO2/sf)_2015      0\n",
      "GHG Intensity (kgCO2/sf)_2014      0\n",
      "% Electricity_2015                 0\n",
      "% Gas_2015                         0\n",
      "% Steam_2015                       0\n",
      "%_total_2015                       0\n",
      "% Electricity_2014                 0\n",
      "% Gas_2014                         0\n",
      "% Steam_2014                       0\n",
      "%_total_2014                       0\n",
      "dtype: int64\n",
      "(923, 24)\n"
     ]
    }
   ],
   "source": [
    "berdo = berdo[[\"Property Name\",\"Address\",\"ZIP_2015\",\"Year Built_2015\",\n",
    "       \"Property Type_2015\",\"Property Type_2014\",\n",
    "       \"Gross Area (sq ft)_2015\",\"Gross Area (sq ft)_2014\",\n",
    "       \"Site EUI (kBTU/sf)_2015\",\"Site EUI (kBTU/sf)_2014\",\n",
    "       \" Total Site Energy (kBTU) _2015\",\" Total Site Energy (kBTU) _2014\",\n",
    "       \"GHG Emissions (MTCO2e)_2015\",\"GHG Emissions (MTCO2e)_2014\",\n",
    "       \"GHG Intensity (kgCO2/sf)_2015\",\"GHG Intensity (kgCO2/sf)_2014\",\n",
    "       \"% Electricity_2015\", \"% Gas_2015\", \"% Steam_2015\",\"%_total_2015\",\n",
    "       \"% Electricity_2014\", \"% Gas_2014\", \"% Steam_2014\",\"%_total_2014\"\n",
    "      ]]\n",
    "\n",
    "### remove data that doesn't seem right. A deeper investigation should be done here\n",
    "#print(berdo.isnull().sum())\n",
    "print(berdo.shape)\n",
    "\n",
    "print(\"---------\")\n",
    "\n",
    "# set values -1 to NaN\n",
    "berdo.replace(-1,np.NaN,inplace=True)\n",
    "# remove if total energy < 90. Check these deeper\n",
    "berdo = berdo[(berdo[\"%_total_2015\"] > 90) & (berdo[\"%_total_2014\"] > 90)]\n",
    "# drop all missing values\n",
    "berdo.dropna(axis=0, how='any', inplace=True)\n",
    "print(berdo.shape)"
   ]
  },
  {
   "cell_type": "code",
   "execution_count": 90,
   "metadata": {
    "collapsed": false
   },
   "outputs": [],
   "source": [
    "berdo_diff = pd.DataFrame()\n",
    "berdo_diff[[\"property_name\", \"address\",\"zip\",\"year_built\"]] = berdo[[\"Property Name\",\"Address\",\"ZIP_2015\",\"Year Built_2015\"]]\n",
    "berdo_diff[[\"property_type_2015\",\"property_type_2014\"]] = berdo[[\"Property Type_2015\",\"Property Type_2014\"]]\n",
    "berdo_diff[\"gloss_area_sqft\"] = berdo[\"Gross Area (sq ft)_2015\"]\n",
    "berdo_diff[\"gloss_area_sqft_diff\"] = berdo[\"Gross Area (sq ft)_2015\"] - berdo[\"Gross Area (sq ft)_2014\"]\n",
    "berdo_diff[\"energy_kbtu/sf_diff\"] = berdo[\"Site EUI (kBTU/sf)_2015\"] - berdo[\"Site EUI (kBTU/sf)_2014\"]\n",
    "berdo_diff[\"energy_total_kbtu_diff\"] = berdo[\" Total Site Energy (kBTU) _2015\"] - berdo[\" Total Site Energy (kBTU) _2014\"]\n",
    "berdo_diff[\"ghg_emissions_mtco2e_diff\"] = berdo[\"GHG Emissions (MTCO2e)_2015\"] - berdo[\"GHG Emissions (MTCO2e)_2014\"]\n",
    "berdo_diff[\"ghg_intensity_kgco2/sf_diff\"] = berdo[\"GHG Intensity (kgCO2/sf)_2015\"] - berdo[\"GHG Intensity (kgCO2/sf)_2014\"]"
   ]
  },
  {
   "cell_type": "code",
   "execution_count": 91,
   "metadata": {
    "collapsed": false,
    "scrolled": true
   },
   "outputs": [
    {
     "data": {
      "text/html": [
       "<div>\n",
       "<table border=\"1\" class=\"dataframe\">\n",
       "  <thead>\n",
       "    <tr style=\"text-align: right;\">\n",
       "      <th></th>\n",
       "      <th>property_name</th>\n",
       "      <th>address</th>\n",
       "      <th>zip</th>\n",
       "      <th>year_built</th>\n",
       "      <th>property_type_2015</th>\n",
       "      <th>property_type_2014</th>\n",
       "      <th>gloss_area_sqft</th>\n",
       "      <th>gloss_area_sqft_diff</th>\n",
       "      <th>energy_kbtu/sf_diff</th>\n",
       "      <th>energy_total_kbtu_diff</th>\n",
       "      <th>ghg_emissions_mtco2e_diff</th>\n",
       "      <th>ghg_intensity_kgco2/sf_diff</th>\n",
       "    </tr>\n",
       "  </thead>\n",
       "  <tbody>\n",
       "    <tr>\n",
       "      <th>0</th>\n",
       "      <td>#2679 south bay/boston</td>\n",
       "      <td>5 alllstate road</td>\n",
       "      <td>02125</td>\n",
       "      <td>1998</td>\n",
       "      <td>Retail Store</td>\n",
       "      <td>Retail Store</td>\n",
       "      <td>132000.0</td>\n",
       "      <td>264000.0</td>\n",
       "      <td>6.9</td>\n",
       "      <td>912943.0</td>\n",
       "      <td>47.5</td>\n",
       "      <td>0.4</td>\n",
       "    </tr>\n",
       "    <tr>\n",
       "      <th>1</th>\n",
       "      <td>0004 roslindale</td>\n",
       "      <td>950 american legion hgwy</td>\n",
       "      <td>02131</td>\n",
       "      <td>2001</td>\n",
       "      <td>Supermarket/Grocery Store</td>\n",
       "      <td>Supermarket/Grocery Store</td>\n",
       "      <td>38694.0</td>\n",
       "      <td>77388.0</td>\n",
       "      <td>-2.8</td>\n",
       "      <td>-107313.0</td>\n",
       "      <td>-19.4</td>\n",
       "      <td>-0.5</td>\n",
       "    </tr>\n",
       "    <tr>\n",
       "      <th>2</th>\n",
       "      <td>0018 dorchester</td>\n",
       "      <td>545 freeport street</td>\n",
       "      <td>02122</td>\n",
       "      <td>2005</td>\n",
       "      <td>Supermarket/Grocery Store</td>\n",
       "      <td>Supermarket/Grocery Store</td>\n",
       "      <td>61548.0</td>\n",
       "      <td>123096.0</td>\n",
       "      <td>-2.3</td>\n",
       "      <td>-146136.1</td>\n",
       "      <td>-31.9</td>\n",
       "      <td>-0.5</td>\n",
       "    </tr>\n",
       "    <tr>\n",
       "      <th>3</th>\n",
       "      <td>0053 south boston</td>\n",
       "      <td>713 e. broadway</td>\n",
       "      <td>02127</td>\n",
       "      <td>2005</td>\n",
       "      <td>Supermarket/Grocery Store</td>\n",
       "      <td>Supermarket/Grocery Store</td>\n",
       "      <td>30982.0</td>\n",
       "      <td>61964.0</td>\n",
       "      <td>-4.9</td>\n",
       "      <td>-152937.9</td>\n",
       "      <td>-2.6</td>\n",
       "      <td>0.0</td>\n",
       "    </tr>\n",
       "    <tr>\n",
       "      <th>4</th>\n",
       "      <td>0089 allston</td>\n",
       "      <td>60 everett st.</td>\n",
       "      <td>02134</td>\n",
       "      <td>2005</td>\n",
       "      <td>Supermarket/Grocery Store</td>\n",
       "      <td>Supermarket/Grocery Store</td>\n",
       "      <td>79894.0</td>\n",
       "      <td>159788.0</td>\n",
       "      <td>-15.9</td>\n",
       "      <td>-1275106.8</td>\n",
       "      <td>-100.9</td>\n",
       "      <td>-1.2</td>\n",
       "    </tr>\n",
       "  </tbody>\n",
       "</table>\n",
       "</div>"
      ],
      "text/plain": [
       "            property_name                   address    zip  year_built  \\\n",
       "0  #2679 south bay/boston          5 alllstate road  02125        1998   \n",
       "1         0004 roslindale  950 american legion hgwy  02131        2001   \n",
       "2         0018 dorchester       545 freeport street  02122        2005   \n",
       "3       0053 south boston           713 e. broadway  02127        2005   \n",
       "4            0089 allston            60 everett st.  02134        2005   \n",
       "\n",
       "          property_type_2015         property_type_2014  gloss_area_sqft  \\\n",
       "0               Retail Store               Retail Store         132000.0   \n",
       "1  Supermarket/Grocery Store  Supermarket/Grocery Store          38694.0   \n",
       "2  Supermarket/Grocery Store  Supermarket/Grocery Store          61548.0   \n",
       "3  Supermarket/Grocery Store  Supermarket/Grocery Store          30982.0   \n",
       "4  Supermarket/Grocery Store  Supermarket/Grocery Store          79894.0   \n",
       "\n",
       "   gloss_area_sqft_diff  energy_kbtu/sf_diff  energy_total_kbtu_diff  \\\n",
       "0              264000.0                  6.9                912943.0   \n",
       "1               77388.0                 -2.8               -107313.0   \n",
       "2              123096.0                 -2.3               -146136.1   \n",
       "3               61964.0                 -4.9               -152937.9   \n",
       "4              159788.0                -15.9              -1275106.8   \n",
       "\n",
       "   ghg_emissions_mtco2e_diff  ghg_intensity_kgco2/sf_diff  \n",
       "0                       47.5                          0.4  \n",
       "1                      -19.4                         -0.5  \n",
       "2                      -31.9                         -0.5  \n",
       "3                       -2.6                          0.0  \n",
       "4                     -100.9                         -1.2  "
      ]
     },
     "execution_count": 91,
     "metadata": {},
     "output_type": "execute_result"
    }
   ],
   "source": [
    "berdo_diff.head()"
   ]
  },
  {
   "cell_type": "code",
   "execution_count": 80,
   "metadata": {
    "collapsed": false
   },
   "outputs": [
    {
     "data": {
      "text/plain": [
       " 0.0         770\n",
       "-200000.0      2\n",
       "-18000.0       2\n",
       "-23242.0       1\n",
       "-2500.0        1\n",
       "-56998.0       1\n",
       "-35500.0       1\n",
       "-50863.0       1\n",
       "-86715.0       1\n",
       "-419328.0      1\n",
       " 13620.0       1\n",
       "-211604.0      1\n",
       "-234189.0      1\n",
       "-298708.0      1\n",
       "-24278.0       1\n",
       "-311000.0      1\n",
       "-140000.0      1\n",
       "-225000.0      1\n",
       "-15000.0       1\n",
       " 1400.0        1\n",
       "-14064.0       1\n",
       "-270840.0      1\n",
       "-235000.0      1\n",
       "-250368.0      1\n",
       "-91515.0       1\n",
       "-21000.0       1\n",
       "-70161.0       1\n",
       "-548.0         1\n",
       "-190000.0      1\n",
       "-34372.0       1\n",
       "            ... \n",
       "-75180.0       1\n",
       "-118195.0      1\n",
       " 61000.0       1\n",
       " 221764.0      1\n",
       "-112068.0      1\n",
       " 561.0         1\n",
       "-421653.0      1\n",
       "-13784.0       1\n",
       "-407000.0      1\n",
       "-1500.0        1\n",
       " 2674.0        1\n",
       "-88458.0       1\n",
       "-7475.0        1\n",
       "-138633.0      1\n",
       "-310580.0      1\n",
       "-33088.0       1\n",
       "-68012.0       1\n",
       "-269637.0      1\n",
       "-70983.0       1\n",
       "-115019.0      1\n",
       "-55024.0       1\n",
       "-91471.0       1\n",
       " 66214.0       1\n",
       "-21858.0       1\n",
       "-73059.0       1\n",
       "-30075.0       1\n",
       "-48510.0       1\n",
       "-3456.0        1\n",
       "-56712.0       1\n",
       "-22000.0       1\n",
       "Name: gloss_area_sqft_diff, dtype: int64"
      ]
     },
     "execution_count": 80,
     "metadata": {},
     "output_type": "execute_result"
    }
   ],
   "source": [
    "berdo_diff[\"gloss_area_sqft_diff\"].value_counts()"
   ]
  },
  {
   "cell_type": "code",
   "execution_count": null,
   "metadata": {
    "collapsed": true
   },
   "outputs": [],
   "source": []
  },
  {
   "cell_type": "code",
   "execution_count": null,
   "metadata": {
    "collapsed": true
   },
   "outputs": [],
   "source": []
  },
  {
   "cell_type": "code",
   "execution_count": 19,
   "metadata": {
    "collapsed": false
   },
   "outputs": [
    {
     "data": {
      "text/plain": [
       "{'Other - Services'}"
      ]
     },
     "execution_count": 19,
     "metadata": {},
     "output_type": "execute_result"
    }
   ],
   "source": [
    "set(berdo[\"Property Type_2015\"].value_counts().index.tolist()) - set(berdo[\"Property Type_2014\"].value_counts().index.tolist())"
   ]
  },
  {
   "cell_type": "code",
   "execution_count": 21,
   "metadata": {
    "collapsed": false
   },
   "outputs": [
    {
     "data": {
      "text/plain": [
       "(1086, 43)"
      ]
     },
     "execution_count": 21,
     "metadata": {},
     "output_type": "execute_result"
    }
   ],
   "source": [
    "berdo.shape"
   ]
  },
  {
   "cell_type": "code",
   "execution_count": 20,
   "metadata": {
    "collapsed": false
   },
   "outputs": [
    {
     "data": {
      "text/plain": [
       "Property Name                         0\n",
       "Reported_2015                         0\n",
       "Property Type_2015                    0\n",
       "Address                               0\n",
       "ZIP_2015                              0\n",
       "Gross Area (sq ft)_2015               0\n",
       "Site EUI (kBTU/sf)_2015               0\n",
       "Energy Star Score_2015                0\n",
       "Energy Star Certified_2015         1019\n",
       "Property Uses_2015                    7\n",
       "Year Built_2015                       0\n",
       "GHG Emissions (MTCO2e)_2015           0\n",
       "GHG Intensity (kgCO2/sf)_2015         0\n",
       " Total Site Energy (kBTU) _2015       0\n",
       "% Electricity_2015                   46\n",
       "% Gas_2015                          215\n",
       "% Steam_2015                        986\n",
       "Water Intensity (gal/sf)_2015       336\n",
       "Onsite Solar (kWh)_2015            1081\n",
       "User Submitted Info_2015            893\n",
       "User Submitted Link_2015           1086\n",
       "Tax Parcel_2015                       0\n",
       "Years Reported                        0\n",
       "Reported_2014                         0\n",
       "Property Type_2014                    0\n",
       "ZIP_2014                              0\n",
       "Gross Area (sq ft)_2014               0\n",
       "Site EUI (kBTU/sf)_2014               0\n",
       "Energy Star Score_2014                0\n",
       "Energy Star Certified_2014         1028\n",
       "Property Uses_2014                    0\n",
       "Year Built_2014                       0\n",
       "GHG Emissions (MTCO2e)_2014           0\n",
       "GHG Intensity (kgCO2/sf)_2014         0\n",
       " Total Site Energy (kBTU) _2014       0\n",
       "% Electricity_2014                    0\n",
       "% Gas_2014                            0\n",
       "% Steam_2014                          0\n",
       "Water Intensity (gal/sf)_2014       156\n",
       "Onsite Solar (kWh)_2014            1081\n",
       "User Submitted Info_2014            943\n",
       "User Submitted Link_2014           1063\n",
       "Tax Parcel_2014                     296\n",
       "dtype: int64"
      ]
     },
     "execution_count": 20,
     "metadata": {},
     "output_type": "execute_result"
    }
   ],
   "source": [
    "berdo.isnull().sum()"
   ]
  },
  {
   "cell_type": "code",
   "execution_count": 44,
   "metadata": {
    "collapsed": false
   },
   "outputs": [
    {
     "data": {
      "text/plain": [
       "50.0    1\n",
       "94.0    1\n",
       "98.0    1\n",
       "61.0    1\n",
       "64.0    1\n",
       "67.0    1\n",
       "84.0    1\n",
       "87.0    1\n",
       "92.0    1\n",
       "93.0    1\n",
       "59.0    1\n",
       "dtype: int64"
      ]
     },
     "execution_count": 44,
     "metadata": {},
     "output_type": "execute_result"
    }
   ],
   "source": [
    "berdo[[\"% Gas_2015\",\"% Steam_2015\",\"% Electricity_2015\"]].sum(axis=1).value_counts().loc[50:]"
   ]
  },
  {
   "cell_type": "code",
   "execution_count": 51,
   "metadata": {
    "collapsed": false
   },
   "outputs": [
    {
     "data": {
      "text/plain": [
       "100.0    948\n",
       "0.0       69\n",
       "99.0       7\n",
       "38.0       3\n",
       "67.0       3\n",
       "71.0       3\n",
       "35.0       2\n",
       "57.0       2\n",
       "60.0       2\n",
       "32.0       2\n",
       "72.0       2\n",
       "74.0       2\n",
       "76.0       2\n",
       "12.0       2\n",
       "5.0        2\n",
       "26.0       1\n",
       "24.0       1\n",
       "28.0       1\n",
       "23.0       1\n",
       "31.0       1\n",
       "18.0       1\n",
       "17.0       1\n",
       "13.0       1\n",
       "33.0       1\n",
       "11.0       1\n",
       "10.0       1\n",
       "7.0        1\n",
       "34.0       1\n",
       "37.0       1\n",
       "101.0      1\n",
       "42.0       1\n",
       "44.0       1\n",
       "98.0       1\n",
       "97.0       1\n",
       "93.0       1\n",
       "92.0       1\n",
       "90.0       1\n",
       "89.0       1\n",
       "88.0       1\n",
       "82.0       1\n",
       "79.0       1\n",
       "78.0       1\n",
       "77.0       1\n",
       "75.0       1\n",
       "73.0       1\n",
       "69.0       1\n",
       "66.0       1\n",
       "48.0       1\n",
       "45.0       1\n",
       "56.0       1\n",
       "dtype: int64"
      ]
     },
     "execution_count": 51,
     "metadata": {},
     "output_type": "execute_result"
    }
   ],
   "source": [
    "berdo[[\"% Gas_2014\",\"% Steam_2014\",\"% Electricity_2014\"]].sum(axis=1).value_counts()"
   ]
  },
  {
   "cell_type": "code",
   "execution_count": 48,
   "metadata": {
    "collapsed": false
   },
   "outputs": [
    {
     "data": {
      "text/plain": [
       "0       100.0\n",
       "1       100.0\n",
       "2       100.0\n",
       "3       100.0\n",
       "4       100.0\n",
       "5       100.0\n",
       "6       100.0\n",
       "7       100.0\n",
       "8       100.0\n",
       "9       100.0\n",
       "10      100.0\n",
       "11      100.0\n",
       "12      100.0\n",
       "13      100.0\n",
       "14      100.0\n",
       "15      100.0\n",
       "16      100.0\n",
       "17       99.0\n",
       "18      100.0\n",
       "19      100.0\n",
       "20      100.0\n",
       "21      100.0\n",
       "22      100.0\n",
       "23      100.0\n",
       "24      100.0\n",
       "25      100.0\n",
       "26      100.0\n",
       "27      100.0\n",
       "28      100.0\n",
       "29      100.0\n",
       "        ...  \n",
       "1056    100.0\n",
       "1057    100.0\n",
       "1058    100.0\n",
       "1059    100.0\n",
       "1060    100.0\n",
       "1061    100.0\n",
       "1062    100.0\n",
       "1063    100.0\n",
       "1064    100.0\n",
       "1065    100.0\n",
       "1066    100.0\n",
       "1067    100.0\n",
       "1068    100.0\n",
       "1069     51.0\n",
       "1070    100.0\n",
       "1071    100.0\n",
       "1072    100.0\n",
       "1073    100.0\n",
       "1074    100.0\n",
       "1075      0.0\n",
       "1076    100.0\n",
       "1077    100.0\n",
       "1078    100.0\n",
       "1079    100.0\n",
       "1080    100.0\n",
       "1081    100.0\n",
       "1082    100.0\n",
       "1083    100.0\n",
       "1084    100.0\n",
       "1085      0.0\n",
       "dtype: float64"
      ]
     },
     "execution_count": 48,
     "metadata": {},
     "output_type": "execute_result"
    }
   ],
   "source": [
    "berdo[\"%_total_2015\"] = berdo[[\"% Gas_2015\",\"% Steam_2015\",\"% Electricity_2015\"]].sum(axis=1)\n",
    "berdo[\"%_total_2014\"] = berdo[[\"% Gas_2014\",\"% Steam_2014\",\"% Electricity_2014\"]].sum(axis=1)"
   ]
  },
  {
   "cell_type": "code",
   "execution_count": null,
   "metadata": {
    "collapsed": true
   },
   "outputs": [],
   "source": []
  },
  {
   "cell_type": "code",
   "execution_count": 31,
   "metadata": {
    "collapsed": false
   },
   "outputs": [
    {
     "data": {
      "text/html": [
       "<div>\n",
       "<table border=\"1\" class=\"dataframe\">\n",
       "  <thead>\n",
       "    <tr style=\"text-align: right;\">\n",
       "      <th></th>\n",
       "      <th>Year Built_2015</th>\n",
       "      <th>Year Built_2014</th>\n",
       "    </tr>\n",
       "  </thead>\n",
       "  <tbody>\n",
       "    <tr>\n",
       "      <th>197</th>\n",
       "      <td>2010</td>\n",
       "      <td>2008.0</td>\n",
       "    </tr>\n",
       "    <tr>\n",
       "      <th>793</th>\n",
       "      <td>2013</td>\n",
       "      <td>2000.0</td>\n",
       "    </tr>\n",
       "    <tr>\n",
       "      <th>887</th>\n",
       "      <td>1968</td>\n",
       "      <td>1978.0</td>\n",
       "    </tr>\n",
       "    <tr>\n",
       "      <th>893</th>\n",
       "      <td>2010</td>\n",
       "      <td>2012.0</td>\n",
       "    </tr>\n",
       "    <tr>\n",
       "      <th>975</th>\n",
       "      <td>1984</td>\n",
       "      <td>1899.0</td>\n",
       "    </tr>\n",
       "  </tbody>\n",
       "</table>\n",
       "</div>"
      ],
      "text/plain": [
       "     Year Built_2015  Year Built_2014\n",
       "197             2010           2008.0\n",
       "793             2013           2000.0\n",
       "887             1968           1978.0\n",
       "893             2010           2012.0\n",
       "975             1984           1899.0"
      ]
     },
     "execution_count": 31,
     "metadata": {},
     "output_type": "execute_result"
    }
   ],
   "source": [
    "berdo[berdo[\"Year Built_2015\"] != berdo[\"Year Built_2014\"]][[\"Year Built_2015\",\"Year Built_2014\"]]"
   ]
  },
  {
   "cell_type": "code",
   "execution_count": null,
   "metadata": {
    "collapsed": true
   },
   "outputs": [],
   "source": []
  },
  {
   "cell_type": "code",
   "execution_count": null,
   "metadata": {
    "collapsed": true
   },
   "outputs": [],
   "source": []
  },
  {
   "cell_type": "code",
   "execution_count": null,
   "metadata": {
    "collapsed": true
   },
   "outputs": [],
   "source": []
  },
  {
   "cell_type": "code",
   "execution_count": null,
   "metadata": {
    "collapsed": true
   },
   "outputs": [],
   "source": []
  },
  {
   "cell_type": "code",
   "execution_count": null,
   "metadata": {
    "collapsed": true
   },
   "outputs": [],
   "source": []
  },
  {
   "cell_type": "code",
   "execution_count": null,
   "metadata": {
    "collapsed": true
   },
   "outputs": [],
   "source": []
  },
  {
   "cell_type": "code",
   "execution_count": null,
   "metadata": {
    "collapsed": true
   },
   "outputs": [],
   "source": []
  },
  {
   "cell_type": "code",
   "execution_count": null,
   "metadata": {
    "collapsed": true
   },
   "outputs": [],
   "source": [
    "berdo[[\"Property Name\",\"Address\",\"ZIP_2015\",\"Year Built_2015\"\n",
    "       \"Property Type_2015\",\"Property Type_2014\"\n",
    "       \"Gross Area (sq ft)_2015\",\"Gross Area (sq ft)_2014\",\n",
    "       \"Site EUI (kBTU/sf)_2015\",\"Site EUI (kBTU/sf)_2014\",\n",
    "       \" Total Site Energy (kBTU) _2015\",\" Total Site Energy (kBTU) _2014\",\n",
    "       \"GHG Emissions (MTCO2e)_2015\",\"GHG Emissions (MTCO2e)_2014\",\n",
    "       \"GHG Intensity (kgCO2/sf)_2015\",\"GHG Intensity (kgCO2/sf)_2014\"\n",
    "      ]]"
   ]
  }
 ],
 "metadata": {
  "kernelspec": {
   "display_name": "Python 3",
   "language": "python",
   "name": "python3"
  },
  "language_info": {
   "codemirror_mode": {
    "name": "ipython",
    "version": 3
   },
   "file_extension": ".py",
   "mimetype": "text/x-python",
   "name": "python",
   "nbconvert_exporter": "python",
   "pygments_lexer": "ipython3",
   "version": "3.5.1"
  }
 },
 "nbformat": 4,
 "nbformat_minor": 0
}
