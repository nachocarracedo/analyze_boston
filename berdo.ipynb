{
 "cells": [
  {
   "cell_type": "code",
   "execution_count": 22,
   "metadata": {
    "collapsed": false
   },
   "outputs": [],
   "source": [
    "import numpy as np\n",
    "import pandas as pd"
   ]
  },
  {
   "cell_type": "markdown",
   "metadata": {},
   "source": [
    "We want to focus on the changes from 2014 to 2015. If Boston wants to be carbon neutral in 2050, we need to track if buildings are improving and point out which aren't (and why?)"
   ]
  },
  {
   "cell_type": "markdown",
   "metadata": {},
   "source": [
    "For reference, this is the description fo the columns:\n",
    "\n",
    "* Property Name\tProperty name, as reported by owner\n",
    "* Reported\tIf the building submitted a report this year. This dataset includes all reported buildings.\n",
    "* Property Type\tProperty type, as identified in Portfolio Manager\n",
    "* Address\tReported address\n",
    "* ZIP\tZIP\n",
    "* Gross Area (sq ft)\tGross area\n",
    "* Site EUI (kBTU/sf)\tSite energy use intensity, or EUI (in kBTU/sq. ft.): This sums up all of the energy used in the building (electricity, gas, steam, etc.) each year, and divides by square footage. There are many drivers of energy use intensity, such as energy-intensive work, and, since EUI is not adjusted for these factors, it is not a definitive indicator of building efficiency. (This metric uses site energy, not source energy.)\n",
    "* Energy Star Score\tENERGY STAR score: Portfolio Manager calculates a 1-100 score for many types of buildings, though not all types are eligible for a score. The score uses details about the building and its location to adjust for how the building is used, and provides some measure of how it performs relative to similar buildings. A higher score means that the building uses less energy than similar buildings.\n",
    "* Energy Star Certified\tENERGY STAR certification: Buildings with a score of 75 or higher can apply to be ENERGY STAR-certified by EPA. This field lists the years in which the building is certified.\n",
    "Property Uses\tList of space uses reported for this property\n",
    "Year Built\tYear built, as reported by the owner\n",
    "* GHG Emissions (MTCO2e)\tGreenhouse gas emissions. Portfolio Manager uses averages for the regional electric grid and other fuels to estimate annual greenhouse gas emissions. Buildings and campuses that have central plants or buy bulk power may have different emissions than estimated.\n",
    "* GHG Intensity (kgCO2/sf)\tGHG intensity (kgCO2/sf) divides total GHG emissions by square footage.\n",
    "*Total Site Energy (kBTU) \tTotal energy used in 2014 (kBTU). This is a gross sum of all annual energy use in the building, not adjusted for size or uses.\n",
    "* % Electricity\tPercent of total energy that is electricity\n",
    "* % Gas\tPercent of total energy that is gas\n",
    "* % Steam\tPercent of total energy that is steam\n",
    "* Water Intensity (gal/sf)\tWater intensity (gal/sf); the total water use divided by gross floor area.\n",
    "* Onsite Solar (kWh)\tOnsite solar generated each year (kWh)\n",
    "* User Submitted Info\tUser-submitted contextual information: This is a field in which the property owner can describe ongoing efficiency work or other related information.\n",
    "* User Submitted Link\tAny link submitted by the owner\n",
    "* Tax Parcel\tTax parcel number reported by owner\n"
   ]
  },
  {
   "cell_type": "code",
   "execution_count": 4,
   "metadata": {
    "collapsed": false
   },
   "outputs": [],
   "source": [
    "berdo2015 = pd.read_csv(\".//data/berdo2015.csv\", encoding = \"ISO-8859-1\")\n",
    "berdo2014 = pd.read_csv(\".//data/berdo2014.csv\", encoding = \"ISO-8859-1\")"
   ]
  },
  {
   "cell_type": "code",
   "execution_count": 12,
   "metadata": {
    "collapsed": false
   },
   "outputs": [
    {
     "data": {
      "text/html": [
       "<div>\n",
       "<table border=\"1\" class=\"dataframe\">\n",
       "  <thead>\n",
       "    <tr style=\"text-align: right;\">\n",
       "      <th></th>\n",
       "      <th>Property Name</th>\n",
       "      <th>Reported</th>\n",
       "      <th>Property Type</th>\n",
       "      <th>Address</th>\n",
       "      <th>ZIP</th>\n",
       "      <th>Gross Area (sq ft)</th>\n",
       "      <th>Site EUI (kBTU/sf)</th>\n",
       "      <th>Energy Star Score</th>\n",
       "      <th>Energy Star Certified</th>\n",
       "      <th>Property Uses</th>\n",
       "      <th>...</th>\n",
       "      <th>GHG Intensity (kgCO2/sf)</th>\n",
       "      <th>Total Site Energy (kBTU)</th>\n",
       "      <th>% Electricity</th>\n",
       "      <th>% Gas</th>\n",
       "      <th>% Steam</th>\n",
       "      <th>Water Intensity (gal/sf)</th>\n",
       "      <th>Onsite Solar (kWh)</th>\n",
       "      <th>User Submitted Info</th>\n",
       "      <th>User Submitted Link</th>\n",
       "      <th>Tax Parcel</th>\n",
       "    </tr>\n",
       "  </thead>\n",
       "  <tbody>\n",
       "    <tr>\n",
       "      <th>0</th>\n",
       "      <td>MEEI -Longwood</td>\n",
       "      <td>Yes</td>\n",
       "      <td>Ambulatory Surgical Center</td>\n",
       "      <td>800 Huntington Ave</td>\n",
       "      <td>02115</td>\n",
       "      <td>76,300</td>\n",
       "      <td>173.1</td>\n",
       "      <td>Not applicable to this property type</td>\n",
       "      <td>NaN</td>\n",
       "      <td>Ambulatory Surgical Center</td>\n",
       "      <td>...</td>\n",
       "      <td>12.7</td>\n",
       "      <td>13,204,950</td>\n",
       "      <td>47%</td>\n",
       "      <td>53%</td>\n",
       "      <td>0%</td>\n",
       "      <td>NaN</td>\n",
       "      <td>NaN</td>\n",
       "      <td>NaN</td>\n",
       "      <td>NaN</td>\n",
       "      <td>1000894000</td>\n",
       "    </tr>\n",
       "    <tr>\n",
       "      <th>1</th>\n",
       "      <td>Prime Motor Group</td>\n",
       "      <td>Yes</td>\n",
       "      <td>Automobile Dealership</td>\n",
       "      <td>1525-1607 VFW Parkway</td>\n",
       "      <td>02132</td>\n",
       "      <td>150,000</td>\n",
       "      <td>28.7</td>\n",
       "      <td>Not applicable to this property type</td>\n",
       "      <td>NaN</td>\n",
       "      <td>Automobile Dealership, Parking</td>\n",
       "      <td>...</td>\n",
       "      <td>2.8</td>\n",
       "      <td>4,301,102</td>\n",
       "      <td>100%</td>\n",
       "      <td>0%</td>\n",
       "      <td>0%</td>\n",
       "      <td>8.96</td>\n",
       "      <td>NaN</td>\n",
       "      <td>NaN</td>\n",
       "      <td>NaN</td>\n",
       "      <td>2010643010</td>\n",
       "    </tr>\n",
       "  </tbody>\n",
       "</table>\n",
       "<p>2 rows × 22 columns</p>\n",
       "</div>"
      ],
      "text/plain": [
       "       Property Name Reported               Property Type  \\\n",
       "0     MEEI -Longwood      Yes  Ambulatory Surgical Center   \n",
       "1  Prime Motor Group      Yes       Automobile Dealership   \n",
       "\n",
       "                 Address    ZIP Gross Area (sq ft) Site EUI (kBTU/sf)  \\\n",
       "0     800 Huntington Ave  02115            76,300               173.1   \n",
       "1  1525-1607 VFW Parkway  02132           150,000                28.7   \n",
       "\n",
       "                      Energy Star Score Energy Star Certified  \\\n",
       "0  Not applicable to this property type                   NaN   \n",
       "1  Not applicable to this property type                   NaN   \n",
       "\n",
       "                    Property Uses     ...      GHG Intensity (kgCO2/sf)  \\\n",
       "0      Ambulatory Surgical Center     ...                          12.7   \n",
       "1  Automobile Dealership, Parking     ...                           2.8   \n",
       "\n",
       "   Total Site Energy (kBTU)  % Electricity % Gas % Steam  \\\n",
       "0                13,204,950            47%   53%      0%   \n",
       "1                 4,301,102           100%    0%      0%   \n",
       "\n",
       "  Water Intensity (gal/sf) Onsite Solar (kWh) User Submitted Info  \\\n",
       "0                      NaN                NaN                 NaN   \n",
       "1                     8.96                NaN                 NaN   \n",
       "\n",
       "   User Submitted Link  Tax Parcel  \n",
       "0                  NaN  1000894000  \n",
       "1                  NaN  2010643010  \n",
       "\n",
       "[2 rows x 22 columns]"
      ]
     },
     "execution_count": 12,
     "metadata": {},
     "output_type": "execute_result"
    }
   ],
   "source": [
    "berdo2014.head(2)"
   ]
  },
  {
   "cell_type": "code",
   "execution_count": 13,
   "metadata": {
    "collapsed": false
   },
   "outputs": [
    {
     "data": {
      "text/html": [
       "<div>\n",
       "<table border=\"1\" class=\"dataframe\">\n",
       "  <thead>\n",
       "    <tr style=\"text-align: right;\">\n",
       "      <th></th>\n",
       "      <th>Property Name</th>\n",
       "      <th>Reported</th>\n",
       "      <th>Property Type</th>\n",
       "      <th>Address</th>\n",
       "      <th>ZIP</th>\n",
       "      <th>Gross Area (sq ft)</th>\n",
       "      <th>Site EUI (kBTU/sf)</th>\n",
       "      <th>Energy Star Score</th>\n",
       "      <th>Energy Star Certified</th>\n",
       "      <th>Property Uses</th>\n",
       "      <th>...</th>\n",
       "      <th>Total Site Energy (kBTU)</th>\n",
       "      <th>% Electricity</th>\n",
       "      <th>% Gas</th>\n",
       "      <th>% Steam</th>\n",
       "      <th>Water Intensity (gal/sf)</th>\n",
       "      <th>Onsite Solar (kWh)</th>\n",
       "      <th>User Submitted Info</th>\n",
       "      <th>User Submitted Link</th>\n",
       "      <th>Tax Parcel</th>\n",
       "      <th>Years Reported</th>\n",
       "    </tr>\n",
       "  </thead>\n",
       "  <tbody>\n",
       "    <tr>\n",
       "      <th>0</th>\n",
       "      <td>#2679 South Bay/Boston</td>\n",
       "      <td>Yes</td>\n",
       "      <td>Retail Store</td>\n",
       "      <td>5 Alllstate Road</td>\n",
       "      <td>02125</td>\n",
       "      <td>132,000</td>\n",
       "      <td>70.7</td>\n",
       "      <td>74</td>\n",
       "      <td>NaN</td>\n",
       "      <td>Parking, Retail Store</td>\n",
       "      <td>...</td>\n",
       "      <td>9,331,692</td>\n",
       "      <td>56%</td>\n",
       "      <td>44%</td>\n",
       "      <td>NaN</td>\n",
       "      <td>7.6</td>\n",
       "      <td>NaN</td>\n",
       "      <td>NaN</td>\n",
       "      <td>NaN</td>\n",
       "      <td>0703501080</td>\n",
       "      <td>2014, 2015, 2016</td>\n",
       "    </tr>\n",
       "    <tr>\n",
       "      <th>1</th>\n",
       "      <td>0004 Roslindale</td>\n",
       "      <td>Yes</td>\n",
       "      <td>Supermarket/Grocery Store</td>\n",
       "      <td>950 American Legion Hgwy</td>\n",
       "      <td>02131</td>\n",
       "      <td>38,694</td>\n",
       "      <td>245.9</td>\n",
       "      <td>49</td>\n",
       "      <td>NaN</td>\n",
       "      <td>Supermarket/Grocery</td>\n",
       "      <td>...</td>\n",
       "      <td>9,515,343</td>\n",
       "      <td>61%</td>\n",
       "      <td>39%</td>\n",
       "      <td>NaN</td>\n",
       "      <td>62.1</td>\n",
       "      <td>NaN</td>\n",
       "      <td>NaN</td>\n",
       "      <td>NaN</td>\n",
       "      <td>1807323000</td>\n",
       "      <td>2015, 2016</td>\n",
       "    </tr>\n",
       "  </tbody>\n",
       "</table>\n",
       "<p>2 rows × 23 columns</p>\n",
       "</div>"
      ],
      "text/plain": [
       "            Property Name Reported              Property Type  \\\n",
       "0  #2679 South Bay/Boston      Yes               Retail Store   \n",
       "1         0004 Roslindale      Yes  Supermarket/Grocery Store   \n",
       "\n",
       "                    Address    ZIP Gross Area (sq ft) Site EUI (kBTU/sf)  \\\n",
       "0          5 Alllstate Road  02125           132,000                70.7   \n",
       "1  950 American Legion Hgwy  02131            38,694               245.9   \n",
       "\n",
       "  Energy Star Score Energy Star Certified          Property Uses  \\\n",
       "0                74                   NaN  Parking, Retail Store   \n",
       "1                49                   NaN    Supermarket/Grocery   \n",
       "\n",
       "         ...          Total Site Energy (kBTU)  % Electricity % Gas % Steam  \\\n",
       "0        ...                         9,331,692            56%   44%     NaN   \n",
       "1        ...                         9,515,343            61%   39%     NaN   \n",
       "\n",
       "  Water Intensity (gal/sf) Onsite Solar (kWh) User Submitted Info  \\\n",
       "0                      7.6                NaN                 NaN   \n",
       "1                     62.1                NaN                 NaN   \n",
       "\n",
       "   User Submitted Link  Tax Parcel    Years Reported  \n",
       "0                  NaN  0703501080  2014, 2015, 2016  \n",
       "1                  NaN  1807323000        2015, 2016  \n",
       "\n",
       "[2 rows x 23 columns]"
      ]
     },
     "execution_count": 13,
     "metadata": {},
     "output_type": "execute_result"
    }
   ],
   "source": [
    "berdo2015.head(2)"
   ]
  },
  {
   "cell_type": "markdown",
   "metadata": {},
   "source": [
    "Let's check sizes:"
   ]
  },
  {
   "cell_type": "code",
   "execution_count": 8,
   "metadata": {
    "collapsed": false
   },
   "outputs": [
    {
     "name": "stdout",
     "output_type": "stream",
     "text": [
      "(1502, 23)\n",
      "(1380, 22)\n"
     ]
    }
   ],
   "source": [
    "print(berdo2015.shape)\n",
    "print(berdo2014.shape)"
   ]
  },
  {
   "cell_type": "markdown",
   "metadata": {},
   "source": [
    "What is the difference in columns?"
   ]
  },
  {
   "cell_type": "code",
   "execution_count": 30,
   "metadata": {
    "collapsed": false
   },
   "outputs": [
    {
     "data": {
      "text/plain": [
       "{'Years Reported'}"
      ]
     },
     "execution_count": 30,
     "metadata": {},
     "output_type": "execute_result"
    }
   ],
   "source": [
    "set(berdo2015.columns.tolist()) - set(berdo2014.columns.tolist())"
   ]
  },
  {
   "cell_type": "markdown",
   "metadata": {},
   "source": [
    "There is no property id, so let's see if we can match up by \n",
    "\n",
    "* Property name\n",
    "* Address\n",
    "\n",
    "Let's see how many elements we have in common for those 2 features:"
   ]
  },
  {
   "cell_type": "code",
   "execution_count": 37,
   "metadata": {
    "collapsed": false
   },
   "outputs": [
    {
     "data": {
      "text/plain": [
       "1094"
      ]
     },
     "execution_count": 37,
     "metadata": {},
     "output_type": "execute_result"
    }
   ],
   "source": [
    "p15 = berdo2015[\"Property Name\"].tolist()\n",
    "p14 = berdo2014[\"Property Name\"].tolist()\n",
    "len(list(set(p15).intersection(p14)))"
   ]
  },
  {
   "cell_type": "code",
   "execution_count": 44,
   "metadata": {
    "collapsed": false
   },
   "outputs": [
    {
     "data": {
      "text/plain": [
       "1164"
      ]
     },
     "execution_count": 44,
     "metadata": {},
     "output_type": "execute_result"
    }
   ],
   "source": [
    "a15 = berdo2015[\"Address\"].tolist()\n",
    "a14 = berdo2014[\"Address\"].tolist()\n",
    "len(list(set(a15).intersection(a14)))"
   ]
  },
  {
   "cell_type": "markdown",
   "metadata": {},
   "source": [
    "Let's do the join. We convert to lower case first"
   ]
  },
  {
   "cell_type": "code",
   "execution_count": 67,
   "metadata": {
    "collapsed": false
   },
   "outputs": [],
   "source": [
    "berdo2015[\"Address\"] = berdo2015[\"Address\"].astype(str)\n",
    "berdo2014[\"Address\"] = berdo2014[\"Address\"].astype(str)\n",
    "berdo2015[\"Address\"] = berdo2015[\"Address\"].map(str.lower)\n",
    "berdo2014[\"Address\"] = berdo2014[\"Address\"].map(str.lower)\n",
    "berdo2015[\"Property Name\"] = berdo2015[\"Property Name\"].astype(str)\n",
    "berdo2014[\"Property Name\"] = berdo2014[\"Property Name\"].astype(str)\n",
    "berdo2015[\"Property Name\"] = berdo2015[\"Property Name\"].map(str.lower)\n",
    "berdo2014[\"Property Name\"] = berdo2014[\"Property Name\"].map(str.lower)"
   ]
  },
  {
   "cell_type": "code",
   "execution_count": 69,
   "metadata": {
    "collapsed": false
   },
   "outputs": [
    {
     "data": {
      "text/plain": [
       "(1086, 43)"
      ]
     },
     "execution_count": 69,
     "metadata": {},
     "output_type": "execute_result"
    }
   ],
   "source": [
    "berdo = pd.merge(berdo2015, berdo2014,\n",
    "                 how='inner',\n",
    "                 on=['Address','Property Name'],\n",
    "                 suffixes=('_2015', '_2014'))\n",
    "berdo.shape"
   ]
  },
  {
   "cell_type": "code",
   "execution_count": 72,
   "metadata": {
    "collapsed": false
   },
   "outputs": [
    {
     "data": {
      "text/html": [
       "<div>\n",
       "<table border=\"1\" class=\"dataframe\">\n",
       "  <thead>\n",
       "    <tr style=\"text-align: right;\">\n",
       "      <th></th>\n",
       "      <th>Property Name</th>\n",
       "      <th>Reported_2015</th>\n",
       "      <th>Property Type_2015</th>\n",
       "      <th>Address</th>\n",
       "      <th>ZIP_2015</th>\n",
       "      <th>Gross Area (sq ft)_2015</th>\n",
       "      <th>Site EUI (kBTU/sf)_2015</th>\n",
       "      <th>Energy Star Score_2015</th>\n",
       "      <th>Energy Star Certified_2015</th>\n",
       "      <th>Property Uses_2015</th>\n",
       "      <th>...</th>\n",
       "      <th>GHG Intensity (kgCO2/sf)_2014</th>\n",
       "      <th>Total Site Energy (kBTU) _2014</th>\n",
       "      <th>% Electricity_2014</th>\n",
       "      <th>% Gas_2014</th>\n",
       "      <th>% Steam_2014</th>\n",
       "      <th>Water Intensity (gal/sf)_2014</th>\n",
       "      <th>Onsite Solar (kWh)_2014</th>\n",
       "      <th>User Submitted Info_2014</th>\n",
       "      <th>User Submitted Link_2014</th>\n",
       "      <th>Tax Parcel_2014</th>\n",
       "    </tr>\n",
       "  </thead>\n",
       "  <tbody>\n",
       "    <tr>\n",
       "      <th>0</th>\n",
       "      <td>#2679 south bay/boston</td>\n",
       "      <td>Yes</td>\n",
       "      <td>Retail Store</td>\n",
       "      <td>5 alllstate road</td>\n",
       "      <td>02125</td>\n",
       "      <td>132,000</td>\n",
       "      <td>70.7</td>\n",
       "      <td>74</td>\n",
       "      <td>NaN</td>\n",
       "      <td>Parking, Retail Store</td>\n",
       "      <td>...</td>\n",
       "      <td>5.1</td>\n",
       "      <td>8,418,749</td>\n",
       "      <td>63%</td>\n",
       "      <td>37%</td>\n",
       "      <td>0%</td>\n",
       "      <td>4.88</td>\n",
       "      <td>NaN</td>\n",
       "      <td>NaN</td>\n",
       "      <td>NaN</td>\n",
       "      <td>0703501080</td>\n",
       "    </tr>\n",
       "    <tr>\n",
       "      <th>1</th>\n",
       "      <td>0004 roslindale</td>\n",
       "      <td>Yes</td>\n",
       "      <td>Supermarket/Grocery Store</td>\n",
       "      <td>950 american legion hgwy</td>\n",
       "      <td>02131</td>\n",
       "      <td>38,694</td>\n",
       "      <td>245.9</td>\n",
       "      <td>49</td>\n",
       "      <td>NaN</td>\n",
       "      <td>Supermarket/Grocery</td>\n",
       "      <td>...</td>\n",
       "      <td>20.1</td>\n",
       "      <td>9,622,656.0</td>\n",
       "      <td>64%</td>\n",
       "      <td>36%</td>\n",
       "      <td>0%</td>\n",
       "      <td>0.0</td>\n",
       "      <td>NaN</td>\n",
       "      <td>NaN</td>\n",
       "      <td>NaN</td>\n",
       "      <td>1807323000</td>\n",
       "    </tr>\n",
       "  </tbody>\n",
       "</table>\n",
       "<p>2 rows × 43 columns</p>\n",
       "</div>"
      ],
      "text/plain": [
       "            Property Name Reported_2015         Property Type_2015  \\\n",
       "0  #2679 south bay/boston           Yes               Retail Store   \n",
       "1         0004 roslindale           Yes  Supermarket/Grocery Store   \n",
       "\n",
       "                    Address ZIP_2015 Gross Area (sq ft)_2015  \\\n",
       "0          5 alllstate road    02125                132,000    \n",
       "1  950 american legion hgwy    02131                 38,694    \n",
       "\n",
       "  Site EUI (kBTU/sf)_2015 Energy Star Score_2015 Energy Star Certified_2015  \\\n",
       "0                    70.7                     74                        NaN   \n",
       "1                   245.9                     49                        NaN   \n",
       "\n",
       "      Property Uses_2015       ...        GHG Intensity (kgCO2/sf)_2014  \\\n",
       "0  Parking, Retail Store       ...                                  5.1   \n",
       "1    Supermarket/Grocery       ...                                 20.1   \n",
       "\n",
       "   Total Site Energy (kBTU) _2014 % Electricity_2014 % Gas_2014 % Steam_2014  \\\n",
       "0                      8,418,749                 63%        37%           0%   \n",
       "1                    9,622,656.0                 64%        36%           0%   \n",
       "\n",
       "  Water Intensity (gal/sf)_2014 Onsite Solar (kWh)_2014  \\\n",
       "0                          4.88                     NaN   \n",
       "1                           0.0                     NaN   \n",
       "\n",
       "   User Submitted Info_2014  User Submitted Link_2014 Tax Parcel_2014  \n",
       "0                       NaN                       NaN      0703501080  \n",
       "1                       NaN                       NaN      1807323000  \n",
       "\n",
       "[2 rows x 43 columns]"
      ]
     },
     "execution_count": 72,
     "metadata": {},
     "output_type": "execute_result"
    }
   ],
   "source": [
    "berdo.head(2)"
   ]
  },
  {
   "cell_type": "code",
   "execution_count": 74,
   "metadata": {
    "collapsed": false
   },
   "outputs": [],
   "source": [
    "berdo.to_csv(\".\\\\data\\\\berdo.csv\", index=False)"
   ]
  },
  {
   "cell_type": "code",
   "execution_count": null,
   "metadata": {
    "collapsed": false
   },
   "outputs": [],
   "source": []
  },
  {
   "cell_type": "code",
   "execution_count": null,
   "metadata": {
    "collapsed": true
   },
   "outputs": [],
   "source": []
  }
 ],
 "metadata": {
  "kernelspec": {
   "display_name": "Python 3",
   "language": "python",
   "name": "python3"
  },
  "language_info": {
   "codemirror_mode": {
    "name": "ipython",
    "version": 3
   },
   "file_extension": ".py",
   "mimetype": "text/x-python",
   "name": "python",
   "nbconvert_exporter": "python",
   "pygments_lexer": "ipython3",
   "version": "3.5.1"
  }
 },
 "nbformat": 4,
 "nbformat_minor": 0
}
